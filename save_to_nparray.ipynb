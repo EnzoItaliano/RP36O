{
 "cells": [
  {
   "cell_type": "code",
   "execution_count": 25,
   "metadata": {},
   "outputs": [
    {
     "name": "stdout",
     "output_type": "stream",
     "text": [
      "(257, 81215)\n",
      "dict_keys(['__header__', '__version__', '__globals__', 'DIN_1', 'age', 'capsize', 'eeg', 'gender', 'hairtype', 'handedness', 'labels', 'samplingRate', 'version'])\n",
      "(1, 25)\n",
      "[[array(['D255'], dtype='<U4') array(['D254'], dtype='<U4')\n",
      "  array(['D255'], dtype='<U4') ... array(['D254'], dtype='<U4')\n",
      "  array(['D255'], dtype='<U4') array(['D254'], dtype='<U4')]\n",
      " [array([[6292]], dtype=uint16) array([[6310]], dtype=uint16)\n",
      "  array([[11698]], dtype=uint16) ... array([[316787]], dtype=int32)\n",
      "  array([[316837]], dtype=int32) array([[316854]], dtype=int32)]\n",
      " [array([[1]], dtype=uint8) array([[1]], dtype=uint8)\n",
      "  array([[1]], dtype=uint8) ... array([[1]], dtype=uint8)\n",
      "  array([[1]], dtype=uint8) array([[1]], dtype=uint8)]\n",
      " [array([[1573]], dtype=uint16) array([[1577]], dtype=uint16)\n",
      "  array([[2924]], dtype=uint16) ... array([[79196]], dtype=int32)\n",
      "  array([[79209]], dtype=int32) array([[79213]], dtype=int32)]]\n",
      "(4, 2960)\n"
     ]
    }
   ],
   "source": [
    "from scipy.io import loadmat\n",
    "\n",
    "\n",
    "data = loadmat('datasets/256-Channels_Multiple_Stimuli/data/T001b.mat')\n",
    "print(data['eeg'].shape)\n",
    "print(data.keys())\n",
    "print(data['labels'].shape)\n",
    "print(data['DIN_1'])\n",
    "print(data['DIN_1'].shape)\n",
    "\n",
    "# define sample rate\n",
    "sr = 250"
   ]
  },
  {
   "cell_type": "code",
   "execution_count": null,
   "metadata": {},
   "outputs": [],
   "source": []
  }
 ],
 "metadata": {
  "kernelspec": {
   "display_name": "Python 3",
   "language": "python",
   "name": "python3"
  },
  "language_info": {
   "codemirror_mode": {
    "name": "ipython",
    "version": 3
   },
   "file_extension": ".py",
   "mimetype": "text/x-python",
   "name": "python",
   "nbconvert_exporter": "python",
   "pygments_lexer": "ipython3",
   "version": "3.6.9"
  }
 },
 "nbformat": 4,
 "nbformat_minor": 2
}
