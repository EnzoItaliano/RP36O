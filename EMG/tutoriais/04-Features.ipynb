{
 "cells": [
  {
   "cell_type": "markdown",
   "metadata": {},
   "source": [
    "# Extração de características\n",
    "\n",
    "As características que são extraídas dos dados dependem de sua natureza. Os dados EMG são sinais elétricos coletados dentro de um período de tempo, portanto são dados no domínio do tempo. As características deste domínio são extraídas dele. Porém, também é possível transformar os dados EMG para o domínio da frequência e extrair características também neste domínio. Existem diversas características que podem ser extraídas de cada domínio, entretando nem todas elas serão relevantes. Cada problema se beneficia de características ou combinações de características diferentes. Portanto, é preciso que haja uma seleção de características para encontrar a combinação de características que trará melhor resultado na posterior classificação dos dados."
   ]
  },
  {
   "cell_type": "markdown",
   "metadata": {},
   "source": [
    "##  Reutilizando os passos anteriores\n",
    "\n",
    "É necessário carregar os dados pré-processados, para dar início à extração de características. No `jupyter notebook` podemos utilizar o *namespace* completo de outro *notebook*:"
   ]
  },
  {
   "cell_type": "code",
   "execution_count": null,
   "metadata": {},
   "outputs": [
    {
     "name": "stdout",
     "output_type": "stream",
     "text": [
      "(10, 6, 2, 20000) - (classes, ensaios, canais, linhas)\n",
      "(10, 2, 20000)\n",
      "Creating RawArray with float64 data, n_channels=2, n_times=20000\n",
      "    Range : 0 ... 19999 =      0.000 ...     5.000 secs\n",
      "Ready.\n",
      "Creating RawArray with float64 data, n_channels=2, n_times=20000\n",
      "    Range : 0 ... 19999 =      0.000 ...     5.000 secs\n",
      "Ready.\n",
      "Creating RawArray with float64 data, n_channels=2, n_times=20000\n",
      "    Range : 0 ... 19999 =      0.000 ...     5.000 secs\n",
      "Ready.\n",
      "Creating RawArray with float64 data, n_channels=2, n_times=20000\n",
      "    Range : 0 ... 19999 =      0.000 ...     5.000 secs\n",
      "Ready.\n",
      "Creating RawArray with float64 data, n_channels=2, n_times=20000\n",
      "    Range : 0 ... 19999 =      0.000 ...     5.000 secs\n",
      "Ready.\n",
      "Creating RawArray with float64 data, n_channels=2, n_times=20000\n",
      "    Range : 0 ... 19999 =      0.000 ...     5.000 secs\n",
      "Ready.\n",
      "Creating RawArray with float64 data, n_channels=2, n_times=20000\n",
      "    Range : 0 ... 19999 =      0.000 ...     5.000 secs\n",
      "Ready.\n",
      "Creating RawArray with float64 data, n_channels=2, n_times=20000\n",
      "    Range : 0 ... 19999 =      0.000 ...     5.000 secs\n",
      "Ready.\n",
      "Creating RawArray with float64 data, n_channels=2, n_times=20000\n",
      "    Range : 0 ... 19999 =      0.000 ...     5.000 secs\n",
      "Ready.\n",
      "Creating RawArray with float64 data, n_channels=2, n_times=20000\n",
      "    Range : 0 ... 19999 =      0.000 ...     5.000 secs\n",
      "Ready.\n"
     ]
    }
   ],
   "source": [
    "%run 03-Preprocessing.ipynb"
   ]
  },
  {
   "cell_type": "markdown",
   "metadata": {},
   "source": [
    "Uma característica é uma propriedade individual mensurável ou característica de um fenômeno que está sendo observado. Em EMG, uma característica pode ser extraída no domínio do tempo ou no domínio da frequência. As características a seguir foram retiradas do artigo *EMG Feature Extraction for Tolerance of White Gaussian Noise* \\[1\\].\n",
    "\n",
    "### Domínio do tempo\n",
    "\n",
    "1. Willison Amplitude (WAMP)\n",
    "\n",
    "    > $ \\sum_{i=1}^{N-1}f(|x_i - x_{i+1}|) \\\\$\n",
    "    $ sgn(x) = \\begin{cases} 1 & \\text{if } x \\geq threshold \\\\ 0 & \\text{otherwise} \\end{cases} $\n",
    "\n",
    "2. Variance of EMG (VAR-E)\n",
    "\n",
    "    > $ \\frac{1}{N-1}\\sum_{i=1}^{N}x_i^2 $\n",
    "\n",
    "3. Root Mean Square (RMS)\n",
    "\n",
    "    > $ \\sqrt{\\frac{1}{N-1}\\sum_{i=1}^{N}|x_i|^2} $\n",
    "\n",
    "4. Waveform Length (WL)\n",
    "    \n",
    "    > $ \\sum_{i=1}^{N-1}|x_{i+1} - x_i| $\n",
    "\n",
    "5. Zero Crossing (ZC)\n",
    "\n",
    "    > $ \\sum_{i=1}^{N-1}[sgn(x_i x_{i+1}) \\cap |x_i - x_{i+1}| \\geq threshold] \\\\$\n",
    "    $ sgn(x) = \\begin{cases} 1 & \\text{if } x \\geq threshold \\\\ 0 & \\text{otherwise} \\end{cases} $\n",
    "\n",
    "### Domínio da frequência\n",
    "\n",
    "1. Auto Regressive (AR)\n",
    "\n",
    "    > $ - \\sum_{j=1}^{\\rho}\\alpha_j x_{j-1} + w_n $\n",
    "\n",
    "2. Median Frequency (FMD)\n",
    "\n",
    "    > $ \\frac{1}{2}\\sum_{j=1}^{M}PSD_j $\n",
    "\n",
    "3. Mean Frequency (FMN)\n",
    "\n",
    "    > $ \\sum_{j=1}^{M}f_j PSD_j \\Big{ / } \\sum_{j=1}^{M}PSD_j $\n",
    "\n",
    "4. Modified Median Frequency (MMDF)\n",
    "\n",
    "    > $ \\frac{1}{2}\\sum_{i=1}^{M}A_j $\n",
    "\n",
    "\n",
    "\\[1\\] Phinyomark, Angkoon & Limsakul, Chusak & Phukpattaranont, P.. (2008). EMG Feature Extraction for Tolerance of White Gaussian Noise.\n",
    "[Disponível neste link](https://www.researchgate.net/publication/263765853_EMG_Feature_Extraction_for_Tolerance_of_White_Gaussian_Noise)\n",
    "\n",
    "**Desafio 1**: Descrever as características de acordo com o artigo citado e outros disponíveis relacionados. O que está querendo \"ser visto\" em cada característica? Qual é o significado matemático de cada uma delas?"
   ]
  },
  {
   "cell_type": "markdown",
   "metadata": {},
   "source": [
    "### Extraindo características\n",
    "\n",
    "É necessário implementar as características, geralmente em formato de funções ou métodos, para que seja possível aplicar tais funções aos dados de entrada e obter as características resultantes. A seguir temos a implementação das características VAR & RMS (domínio do tempo) e FDM & MMDF (domínio da frequência)."
   ]
  },
  {
   "cell_type": "code",
   "execution_count": null,
   "metadata": {},
   "outputs": [],
   "source": [
    "def var(x):\n",
    "    return np.sum(x ** 2, axis=-1) / (np.prod(x.shape[:-1]) - 1)\n",
    "\n",
    "def rms(x):\n",
    "    return np.sqrt(np.sum(np.abs(x) ** 2, axis=-1) / (np.prod(x.shape[:-1]) - 1))\n",
    "\n",
    "\n",
    "def PSD(w):\n",
    "    ''' definição da função PSD para o sinal no domínio da frequência '''\n",
    "    return np.sqrt(np.abs(w))\n",
    "\n",
    "def fmd(w):\n",
    "    return np.sum(PSD(w), axis=-1) / 2\n",
    "\n",
    "def mmdf(w):\n",
    "    return np.sum(np.abs(w), axis=-1) / 2"
   ]
  },
  {
   "cell_type": "markdown",
   "metadata": {},
   "source": [
    "## Vetor de características\n",
    "\n",
    "Ao final da implementação e seleção das características, deve ser escolhida as características e então teremos um vetor com todas elas impementadas.\n",
    "\n",
    "O vetor de características estará organizado da seguinte forma (exemplo p/ VAR, RMS, RDM e MMDF):\n",
    "\n",
    "| ID sample | VAR1 | RMS1 | FMD1 | MMDF1 | VAR2 | RMS2 | FMD2 | MMDF2 | ... | MMDF8 | Classe |\n",
    "|:---------:|:----:|:----:|:----:|:-----:|------|------|------|-------|-----|-------|:------:|\n",
    "|     1     |  v1  |  v1  |  v1  |   v1  | v1   | v1   | v1   | v1    | v1  | v1    |    0   |\n",
    "|     2     |  v2  |  v2  |  v2  |   v2  | v2   | v2   | v2   | v2    | v2  | v2    |    0   |\n",
    "|    ...    |  ... |  ... |  ... |  ...  | ...  | ...  | ...  | ...   | ... | ...   |   ...  |\n",
    "|     N     |  vN  |  vN  |  vN  |   vN  | vN   | vN   | vN   | vN    | vN  | vN    |    7   |"
   ]
  },
  {
   "cell_type": "markdown",
   "metadata": {},
   "source": [
    "**Desafio 2**: Implemente todas as características apresentadas neste tutorial em formato de funções. Sinta-se livre também para buscar e implementar características EMG além das apresentadas, citando as fontes de tais características."
   ]
  },
  {
   "cell_type": "markdown",
   "metadata": {},
   "source": [
    "### Seleção de características"
   ]
  },
  {
   "cell_type": "code",
   "execution_count": null,
   "metadata": {},
   "outputs": [],
   "source": [
    "# Acrescente todas as features implementadas no dicionário de features\n",
    "features_functions = {}\n",
    "features_functions['var'] = lambda x: var(x)\n",
    "features_functions['fmd'] = lambda w: fmd(w)\n",
    "\n",
    "\n",
    "feature_matrix = {}\n",
    "feature_matrix['var'] = features_functions['var'](chunks_time)\n",
    "feature_matrix['fmd'] = features_functions['fmd'](chunks_freq)\n",
    "\n",
    "print('Features shape:')\n",
    "print('VAR: ', feature_matrix['var'].shape)\n",
    "print('FMD: ', feature_matrix['fmd'].shape)\n"
   ]
  },
  {
   "cell_type": "markdown",
   "metadata": {},
   "source": [
    "**Desafio 3**: Criar um vetor de características, no qual o shape seja 410x18 (nº de amostras, nº de características). Este vetor será utilizado na próxima etapa de seleção (automática) de características e classificação."
   ]
  }
 ],
 "metadata": {
  "kernelspec": {
   "display_name": "Python 3",
   "language": "python",
   "name": "python3"
  },
  "language_info": {
   "codemirror_mode": {
    "name": "ipython",
    "version": 3
   },
   "file_extension": ".py",
   "mimetype": "text/x-python",
   "name": "python",
   "nbconvert_exporter": "python",
   "pygments_lexer": "ipython3",
   "version": "3.8.5"
  }
 },
 "nbformat": 4,
 "nbformat_minor": 2
}
