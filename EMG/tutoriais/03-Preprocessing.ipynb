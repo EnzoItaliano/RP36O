{
 "metadata": {
  "language_info": {
   "codemirror_mode": {
    "name": "ipython",
    "version": 3
   },
   "file_extension": ".py",
   "mimetype": "text/x-python",
   "name": "python",
   "nbconvert_exporter": "python",
   "pygments_lexer": "ipython3",
   "version": "3.8.5-final"
  },
  "orig_nbformat": 2,
  "kernelspec": {
   "name": "python3",
   "display_name": "Python 3.8.5 32-bit",
   "metadata": {
    "interpreter": {
     "hash": "8e5e3570d46ee934e4f49936f453672a4b7969ed03f2241dd75a2a7ed3833264"
    }
   }
  }
 },
 "nbformat": 4,
 "nbformat_minor": 2,
 "cells": [
  {
   "source": [
    "# *Pré-processamento*\n",
    "\n",
    "Esta é uma etapa importante do processamento de dados, que envolve vários conceitos. No pré-processamento os dados podem ser \"limpos\", padronizados e transformados. Ainda no pré-processamento ocorre também a extração e seleção de características.\n",
    "\n",
    "*Limpar* os dados se refere a remoção, ou correção, de dados que estejam imcompletos, corrompidos ou imprecisos.\n",
    "*Padronizar* os dados se refere a remover dados *outliers*, deixar todas as possíveis medidas na mesma escala e unidade e normalizar os dados se necerrário.\n",
    "*Transformar* os dados se refere a colocar os dados em um formato que favoreça futuras extrações de características ou análises.\n",
    "\n",
    "As características a serem extraídas dos dados dependem da natureza do dado a ser analisado. Os dados EMG são sinais elétricos coletados dentro de um período de tempo, portanto são dados no domínio do tempo e características do domínio do tempo são extraídas dele. Porém também é possível transformar os dados EMG para o domínio da frequência e extrair características do domínio da frequência. Existem diversas características que podem ser extraídas de cada domínio, entretando nem todas elas serão relevantes. Cada problema se beneficia de características, ou combinações de características, diferentes. Por tanto é preciso que haja uma seleção de características para encontrar a combinação de características que trará melhor resultado na análise dos dados."
   ],
   "cell_type": "markdown",
   "metadata": {}
  },
  {
   "source": [
    "## Limpeza dos dados\n",
    "\n",
    "Ao coletar dados EMG, estes tendem a vir com uma interferência da rede elétrica. A interferência é na frequência da rede elétrica. No Brasil a rede elétrica possui uma frequência de 60 Hz, gerando uma interferência de mesma frequência. Em outros países a frequênciada rede elétrica é de 50 Hz, gerando uma interferência nesta faixa. Essa interferência precisa ser removida dos dados, para realizar tal remoção utiliza-se um filtro *notch* da frequência da rede elétrica. A base da dados utilizada neste tutorial já passou por este processo antes de ser disponibilizada pelo autor, portanto não é necessário aplicar este filtro novamente sobre os dados aqui utilizados."
   ],
   "cell_type": "markdown",
   "metadata": {}
  },
  {
   "cell_type": "code",
   "execution_count": null,
   "metadata": {},
   "outputs": [],
   "source": []
  },
  {
   "source": [
    "## Transformação de dados\n",
    "\n",
    "As características normalmente são extraidas sobre pequenas porções de tamanho fixo dos dados, não no dado como um todo. Essas pequenas porções são chamadas de janelas. A técnica de se separar o dado em janelas se chama janela deslizante (*sliding window*). Uma boa prática é definir um passo para essa janela de forma que haja uma sopreposição de dados, para que informações não sejam perdidas.\n",
    "\n",
    "(TODO: Colocar ume xemplo com imagens aqui, para exemplificar melhor o conceito)\n",
    "\n",
    "Na base de dados sendo utilizada neste tutorial, cada ensaio tem duração de 5 segundos. Se utilizadas janelas com tamanho de 250ms, resultará em 20 janelas. Ao aplicar uma sobreposição de ~128ms, ficamos com 41 janelas de ~122ms."
   ],
   "cell_type": "markdown",
   "metadata": {}
  },
  {
   "cell_type": "code",
   "execution_count": 9,
   "metadata": {},
   "outputs": [
    {
     "output_type": "stream",
     "name": "stdout",
     "text": [
      "(10, 6, 2, 20000) - (classes, ensaios, canais, linhas)\n"
     ]
    }
   ],
   "source": [
    "# Carregando dados\n",
    "import numpy as np\n",
    "\n",
    "data = {}\n",
    "# Carregando apenas os dados de s1\n",
    "# Adapte esse código para que ele carregue os dados\n",
    "# de todos os sujeitos do dataset\n",
    "# Dica: utilize f strings para conseguir iterar sobre as chaves dos dicionarios\n",
    "# e sobre os nomes dos arquivos\n",
    "data['s1'] = np.load('./lib/data/converted/s1.npy')\n",
    "print(f'{data[\"s1\"].shape} - (classes, ensaios, canais, linhas)')"
   ]
  },
  {
   "cell_type": "code",
   "execution_count": 14,
   "metadata": {},
   "outputs": [
    {
     "output_type": "stream",
     "name": "stdout",
     "text": [
      "Formato (shape) dos dados depois da divisão de janelas\nDominio do tempo: (10, 6, 2, 41, 1024) - (classes, ensaios, canais, janelas, linhas)\nDominio da frequência:  (10, 6, 2, 41, 513) - (classes, ensaios, canais, janelas, linhas)\n"
     ]
    }
   ],
   "source": [
    "from scipy.signal import stft\n",
    "\n",
    "step = 470\n",
    "segment = 1024\n",
    "chunks_time = {}\n",
    "chunks_fft = {}\n",
    "\n",
    "# Adapte o código a seguir para percorrer todos os sujeitos do dataset\n",
    "# Dica: utilize f strings para conseguir iterar sobre as chaves dos dicionarios\n",
    "n_win = int((data['s1'].shape[-1] - segment) / step) + 1\n",
    "ids = np.arange(n_win) * step\n",
    "chunks_time['s1'] = np.array([data['s1'][:,:,:,k:(k + segment)] for k in ids]).transpose(1, 2, 3, 0, 4)\n",
    "_, _, chunks_fft['s1'] = stft(data['s1'], fs=4000, nperseg=1024, noverlap=512)\n",
    "chunks_fft['s1'] = np.swapaxes(chunks_fft['s1'], 3, 4)\n",
    "\n",
    "print('Formato (shape) dos dados depois da divisão de janelas')\n",
    "print(f'Dominio do tempo: {chunks_time[\"s1\"].shape} - (classes, ensaios, canais, janelas, linhas)')\n",
    "print(f'Dominio da frequência:  {chunks_fft[\"s1\"].shape} - (classes, ensaios, canais, janelas, linhas)')"
   ]
  },
  {
   "source": [
    "## Características\n",
    "\n",
    "Uma característica é uma propriedade individual mensurável ou característica de um fenômeno que está sendo observado. Em EMG uma característica pode ser extraida no domínio do tempo ou no domínio da frequência. As características a seguir foram retiradas do artigo *EMG Feature Extraction for Tolerance of White Gaussian Noise* \\[1\\].\n",
    "\n",
    "### Domínio do tempo\n",
    "\n",
    "1. Willison Amplitude (WAMP)\n",
    "\n",
    "    ![WAMP](lib/img/features/WAMP.png)\n",
    "\n",
    "2. Root Mean Square (RMS)\n",
    "\n",
    "    ![RMS](lib/img/features/RMS.png)\n",
    "\n",
    "3. Waveform Length (WL)\n",
    "    \n",
    "    ![WL](lib/img/features/WL.png)\n",
    "\n",
    "4. Zero Crossing (ZC)\n",
    "\n",
    "    ![ZC](lib/img/features/ZC.png)\n",
    "\n",
    "### Domínio da frequência\n",
    "\n",
    "1. Auto Regressive (AR)\n",
    "\n",
    "    ![AR](lib/img/features/AR.png)\n",
    "\n",
    "2. Median Frequency (FMD)\n",
    "\n",
    "    ![FMD](lib/img/features/FMD.png)\n",
    "\n",
    "3. Mean Frequency (FMN)\n",
    "\n",
    "    ![FMN](lib/img/features/FMN.png)\n",
    "\n",
    "\\[1\\] Phinyomark, Angkoon & Limsakul, Chusak & Phukpattaranont, P.. (2008). EMG Feature Extraction for Tolerance of White Gaussian Noise.\n",
    "[Disponível neste link](https://www.researchgate.net/publication/263765853_EMG_Feature_Extraction_for_Tolerance_of_White_Gaussian_Noise)\n"
   ],
   "cell_type": "markdown",
   "metadata": {}
  },
  {
   "source": [
    "### Extraindo características\n",
    "\n",
    "É necessário implementar as características, geralmente em formato de funções ou métodos, para que seja possível aplicar tais funções aos dados de entrada e obter as características resultantes. A seguir temos a implementação da característica Zero Crossing (ZC)."
   ],
   "cell_type": "markdown",
   "metadata": {}
  },
  {
   "cell_type": "code",
   "execution_count": 15,
   "metadata": {},
   "outputs": [],
   "source": [
    "def ZC(x):\n",
    "    aux = []\n",
    "    for i in range(1023):\n",
    "        aux.append((-x[:,:,:,:,i] * x[:,:,:,:,i+1]))\n",
    "    aux = np.array(aux)\n",
    "    aux = aux.transpose(1, 2, 3, 4, 0)\n",
    "    s = np.sum(aux, axis=-1)\n",
    "    return s"
   ]
  },
  {
   "source": [
    "**Desafio:** Implemente todas as características apresentadas neste tutorial em formato de funções. Sinta-se livre também para buscar e implementar características EMG além das apresentadas, citando as fontes de tais características."
   ],
   "cell_type": "markdown",
   "metadata": {}
  },
  {
   "source": [
    "### Seleção de características"
   ],
   "cell_type": "markdown",
   "metadata": {}
  },
  {
   "cell_type": "code",
   "execution_count": 18,
   "metadata": {},
   "outputs": [
    {
     "output_type": "stream",
     "name": "stdout",
     "text": [
      "Features shape\nZC:  (10, 6, 2, 41)\n"
     ]
    }
   ],
   "source": [
    "# Acrescente todas as features implementadas no dicionário de features\n",
    "featuresFunctions = {}\n",
    "featuresFunctions['ZC'] = lambda x: ZC(x)\n",
    "\n",
    "\n",
    "# Adapte o código para que todas as features sejam aplicadas a todas as pessoas\n",
    "# Dica: utilize f strings para conseguir iterar sobre as chaves dos dicionarios\n",
    "\n",
    "featureMatrix = {}\n",
    "featureMatrix['s1'] = {}\n",
    "featureMatrix['s1']['ZC'] = featuresFunctions['ZC'](chunks_time['s1'])\n",
    "print('Features shape')\n",
    "print('ZC: ', featureMatrix['s1']['ZC'].shape)\n"
   ]
  }
 ]
}